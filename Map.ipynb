{
 "cells": [
  {
   "cell_type": "code",
   "execution_count": null,
   "id": "94c6b84b-e9d1-403a-925e-725636d2729c",
   "metadata": {},
   "outputs": [],
   "source": [
    "# Importing libraries\n",
    "import pandas as pd\n",
    "import requests\n",
    "import geopandas as gpd\n",
    "import folium\n",
    "from folium.plugins import MarkerCluster\n",
    "\n",
    "from ipyleaflet import Map, Marker, basemaps\n",
    "import matplotlib.pyplot as plt\n",
    "import seaborn as sns"
   ]
  },
  {
   "cell_type": "code",
   "execution_count": null,
   "id": "80b6dad5-124d-4f75-a74d-e9efc5fb70b3",
   "metadata": {},
   "outputs": [],
   "source": [
    "# Reading in data files\n",
    "url = 'https://gis.mwcog.org/wa/rest/services/TPB/EEA_RTDC/MapServer/1/query?f=json&where=(Jurisdiction_Short%20IN%20(%27Montgomery%27))&outFields=*&geometryType=esriGeometryEnvelope&geometry=%7B%22spatialReference%22%3A%7B%22latestWkid%22%3A3857%2C%22wkid%22%3A102100%7D%2C%22xmin%22%3A-8674216.745352264%2C%22ymin%22%3A4682518.666673711%2C%22xmax%22%3A-8510488.630765356%2C%22ymax%22%3A4789224.758159857%2C%22type%22%3A%22esriGeometryEnvelope%22%7D'\n",
    "EEA = requests.get(url).json()\n",
    "\n",
    "police_districts=requests.get('https://data.montgomerycountymd.gov/resource/vxy6-ve2e.geojson').json()\n",
    "\n",
    "flagged=pd.read_csv(\"flagged_crashes.csv\") \n",
    "ACRS='ACRS.geojson'\n",
    "relocated='relocated.geojson'"
   ]
  },
  {
   "cell_type": "code",
   "execution_count": null,
   "id": "1217027e-b339-4704-af16-b4daa79082a5",
   "metadata": {},
   "outputs": [],
   "source": [
    "center = [39.158970, -77.197166]\n",
    "zoom=10\n",
    "m = folium.Map(location=center, zoom_start=zoom, prefer_canvas=True, tiles='CartoDB Positron')\n",
    "\n",
    "display(m)"
   ]
  },
  {
   "cell_type": "code",
   "execution_count": null,
   "id": "73aa0f57-a432-448c-b8e2-aff55b61f31f",
   "metadata": {},
   "outputs": [],
   "source": [
    "folium.GeoJson(ACRS,\n",
    "               name = \"Original ACRS crash locations\",\n",
    "               marker=folium.Circle(radius=1, \n",
    "                                   color='blue')\n",
    "              ).add_to(m)"
   ]
  },
  {
   "cell_type": "code",
   "execution_count": null,
   "id": "65bf5fb5-dc26-4de4-b2f2-eb35a4637af1",
   "metadata": {},
   "outputs": [],
   "source": [
    "folium.GeoJson(relocated,\n",
    "               name = \"Relocated crash locations\",\n",
    "               marker=folium.Circle(radius=1, \n",
    "                                   color='green')\n",
    "              ).add_to(m)"
   ]
  },
  {
   "cell_type": "code",
   "execution_count": null,
   "id": "3c30c4d8-b3bf-426c-bb4f-e555b436a906",
   "metadata": {},
   "outputs": [],
   "source": [
    "folium.LayerControl().add_to(m)"
   ]
  },
  {
   "cell_type": "code",
   "execution_count": null,
   "id": "c5449a61-6891-4ede-b5f6-d847eaeadeee",
   "metadata": {},
   "outputs": [],
   "source": [
    "display(m)"
   ]
  },
  {
   "cell_type": "code",
   "execution_count": null,
   "id": "4aa575ef-af8d-47d3-abae-824b81d82db4",
   "metadata": {},
   "outputs": [],
   "source": [
    "m.save('Accident_map.html')"
   ]
  },
  {
   "cell_type": "code",
   "execution_count": null,
   "id": "0a4e514f-caad-43b6-a11c-200b8d57f2b0",
   "metadata": {},
   "outputs": [],
   "source": [
    "center = [39.158970, -77.197166]\n",
    "zoom=10\n",
    "m2 = folium.Map(location=center, zoom_start=zoom, prefer_canvas=True, tiles='CartoDB Positron')\n",
    "\n",
    "\n",
    "display(m2)"
   ]
  },
  {
   "cell_type": "code",
   "execution_count": null,
   "id": "76941bbe-21d9-499e-b59e-5254af321529",
   "metadata": {},
   "outputs": [],
   "source": [
    "colors = sns.color_palette(\"Dark2\", n_colors=3).as_hex()"
   ]
  },
  {
   "cell_type": "code",
   "execution_count": null,
   "id": "24e764bc-7726-4319-8749-51b8ff75bf3c",
   "metadata": {},
   "outputs": [],
   "source": [
    "for i in range(0, flagged.shape[0]):\n",
    "    folium.Circle(\n",
    "        location=[flagged.iloc[i]['pol_lat'], flagged.iloc[i]['pol_lon']],\n",
    "        color=colors[int(flagged.iloc[int(i)][\"Cluster\"])],\n",
    "        radius=1).add_to(m2)"
   ]
  },
  {
   "cell_type": "code",
   "execution_count": null,
   "id": "ad1bd517-ae37-4c1d-8e3a-3ee5082fce66",
   "metadata": {},
   "outputs": [],
   "source": [
    "folium.GeoJson(police_districts,\n",
    "              name = \"Montgomery County police districts\").add_to(m2)"
   ]
  },
  {
   "cell_type": "code",
   "execution_count": null,
   "id": "3226fd8f-0d9a-4941-be46-648d283f0389",
   "metadata": {},
   "outputs": [],
   "source": [
    "folium.LayerControl().add_to(m2)"
   ]
  },
  {
   "cell_type": "code",
   "execution_count": null,
   "id": "1aec934a-3b0a-4e4f-85a7-645ce140099a",
   "metadata": {},
   "outputs": [],
   "source": [
    "display(m2)"
   ]
  },
  {
   "cell_type": "code",
   "execution_count": null,
   "id": "c469d427-dc62-46aa-a5ed-175f410467cf",
   "metadata": {},
   "outputs": [],
   "source": [
    "m2.save('Clustered_Accidents_map.html')"
   ]
  }
 ],
 "metadata": {
  "kernelspec": {
   "display_name": "Python 3 (ipykernel)",
   "language": "python",
   "name": "python3"
  },
  "language_info": {
   "codemirror_mode": {
    "name": "ipython",
    "version": 3
   },
   "file_extension": ".py",
   "mimetype": "text/x-python",
   "name": "python",
   "nbconvert_exporter": "python",
   "pygments_lexer": "ipython3",
   "version": "3.10.0"
  }
 },
 "nbformat": 4,
 "nbformat_minor": 5
}
